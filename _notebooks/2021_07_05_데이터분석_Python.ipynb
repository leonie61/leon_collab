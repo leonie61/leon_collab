{
  "nbformat": 4,
  "nbformat_minor": 0,
  "metadata": {
    "colab": {
      "name": "2021_07_05_데이터분석_Python.ipynb",
      "provenance": [],
      "toc_visible": true
    },
    "kernelspec": {
      "name": "python3",
      "display_name": "Python 3"
    },
    "language_info": {
      "name": "python"
    }
  },
  "cells": [
    {
      "cell_type": "markdown",
      "metadata": {
        "id": "Cqz3aRGrMR2e"
      },
      "source": [
        "# '데이터 분석 Python 기초 문법 노트북'\n",
        "> '2021년 여름 방학 데이터분석을 위한 Python 기초문법'\n",
        "\n",
        "- toc:true\n",
        "- branch: master\n",
        "- badges: true\n",
        "- comments: true\n",
        "- author: leechaewon\n",
        "- categories: [python, 데이터분석]"
      ]
    },
    {
      "cell_type": "code",
      "metadata": {
        "colab": {
          "base_uri": "https://localhost:8080/"
        },
        "id": "uDgCTuzwXg7o",
        "outputId": "b26d4b8b-e865-48d5-f782-53dabaece7a4"
      },
      "source": [
        "x = 3\n",
        "y = 7\n",
        "x + y"
      ],
      "execution_count": null,
      "outputs": [
        {
          "output_type": "execute_result",
          "data": {
            "text/plain": [
              "10"
            ]
          },
          "metadata": {
            "tags": []
          },
          "execution_count": 1
        }
      ]
    },
    {
      "cell_type": "markdown",
      "metadata": {
        "id": "zJscjkPXYPYe"
      },
      "source": [
        "# 마크다운\n",
        "## 마크다운\n",
        "### 마크다운\n",
        "\n",
        "* hello world\n",
        "* hello world\n",
        "* hello world\n",
        "\n",
        "1. hello world\n",
        "1. hello world\n",
        "1. hello world"
      ]
    },
    {
      "cell_type": "markdown",
      "metadata": {
        "id": "ML6DF4awa5BM"
      },
      "source": [
        "## 변수"
      ]
    },
    {
      "cell_type": "markdown",
      "metadata": {
        "id": "r89VMsrebmoe"
      },
      "source": [
        "대문자와 소문자는 다릅니다!\n",
        "변수명에 띄어쓰기를 쓰지 않습니다!\n",
        "맨 앞에 숫자를 사용하지 않습니다.\n",
        "카멜 표기법이나 스네이크 표기법 중 일반 변수는 스네이크 표기법을 사용합니다.\n",
        "for, if, print, suam 등 이미 예약되어 있는 것은 변수로 사용하지 않습니다."
      ]
    },
    {
      "cell_type": "markdown",
      "metadata": {
        "id": "d2p1457Obmgc"
      },
      "source": [
        ""
      ]
    },
    {
      "cell_type": "code",
      "metadata": {
        "colab": {
          "base_uri": "https://localhost:8080/"
        },
        "id": "cdGkO-5Qa0zd",
        "outputId": "312fc8bb-ed56-4186-96c1-6b0f5632c87f"
      },
      "source": [
        "x = 3\n",
        "y = 7\n",
        "x + y\n",
        "x - y\n",
        "x * y\n",
        "x // y"
      ],
      "execution_count": null,
      "outputs": [
        {
          "output_type": "execute_result",
          "data": {
            "text/plain": [
              "0"
            ]
          },
          "metadata": {
            "tags": []
          },
          "execution_count": 4
        }
      ]
    },
    {
      "cell_type": "code",
      "metadata": {
        "colab": {
          "base_uri": "https://localhost:8080/"
        },
        "id": "sZJYuG0MbnV1",
        "outputId": "561add5b-f312-4042-e6c8-84cbd1bd2d24"
      },
      "source": [
        "x = 3\n",
        "y = 7\n",
        "print(x + y)\n",
        "print(x - y)\n",
        "print(x * y)\n",
        "print(x // y)"
      ],
      "execution_count": null,
      "outputs": [
        {
          "output_type": "stream",
          "text": [
            "10\n",
            "-4\n",
            "21\n",
            "0\n"
          ],
          "name": "stdout"
        }
      ]
    },
    {
      "cell_type": "code",
      "metadata": {
        "colab": {
          "base_uri": "https://localhost:8080/"
        },
        "id": "7ZVH8LEncSoE",
        "outputId": "d52413a6-c617-4c3f-f599-92e227660c0a"
      },
      "source": [
        "a = 10\n",
        "b = '10'\n",
        "print(a + a)\n",
        "print(b + b)"
      ],
      "execution_count": null,
      "outputs": [
        {
          "output_type": "stream",
          "text": [
            "20\n",
            "1010\n"
          ],
          "name": "stdout"
        }
      ]
    },
    {
      "cell_type": "code",
      "metadata": {
        "colab": {
          "base_uri": "https://localhost:8080/"
        },
        "id": "u7mUOknyc7j8",
        "outputId": "7d0c9fa6-f5a0-4819-fdaf-48a23009629f"
      },
      "source": [
        "a = 10 # int : 정수\n",
        "b = '10' # str : 문자\n",
        "c = 'lee'\n",
        "d = 'hojun'\n",
        "e = True # bool : 불리언\n",
        "f = 10.1 # float : 실수\n",
        "print(type(a))"
      ],
      "execution_count": null,
      "outputs": [
        {
          "output_type": "stream",
          "text": [
            "<class 'int'>\n"
          ],
          "name": "stdout"
        }
      ]
    },
    {
      "cell_type": "code",
      "metadata": {
        "colab": {
          "base_uri": "https://localhost:8080/"
        },
        "id": "u70-gIwMd6lV",
        "outputId": "c119fcae-613a-4f2b-9145-f931a9d72405"
      },
      "source": [
        "3 > 10"
      ],
      "execution_count": null,
      "outputs": [
        {
          "output_type": "execute_result",
          "data": {
            "text/plain": [
              "False"
            ]
          },
          "metadata": {
            "tags": []
          },
          "execution_count": 8
        }
      ]
    },
    {
      "cell_type": "code",
      "metadata": {
        "colab": {
          "base_uri": "https://localhost:8080/",
          "height": 172
        },
        "id": "1apEbI3FeKxk",
        "outputId": "89afab6b-8a03-42bc-ccb2-65f2428c050e"
      },
      "source": [
        "a + b"
      ],
      "execution_count": null,
      "outputs": [
        {
          "output_type": "error",
          "ename": "TypeError",
          "evalue": "ignored",
          "traceback": [
            "\u001b[0;31m---------------------------------------------------------------------------\u001b[0m",
            "\u001b[0;31mTypeError\u001b[0m                                 Traceback (most recent call last)",
            "\u001b[0;32m<ipython-input-9-bd58363a63fc>\u001b[0m in \u001b[0;36m<module>\u001b[0;34m()\u001b[0m\n\u001b[0;32m----> 1\u001b[0;31m \u001b[0ma\u001b[0m \u001b[0;34m+\u001b[0m \u001b[0mb\u001b[0m\u001b[0;34m\u001b[0m\u001b[0;34m\u001b[0m\u001b[0m\n\u001b[0m",
            "\u001b[0;31mTypeError\u001b[0m: unsupported operand type(s) for +: 'int' and 'str'"
          ]
        }
      ]
    },
    {
      "cell_type": "code",
      "metadata": {
        "colab": {
          "base_uri": "https://localhost:8080/"
        },
        "id": "DERCpWp7eaVE",
        "outputId": "2f90119b-2194-4b66-ed70-9f17af3e5db1"
      },
      "source": [
        "a = [10, 20, 30, 10.1, 20.1, 30.1, 'hojun'] # list\n",
        "b = (10, 20, 30) # tuple\n",
        "c = {10, 20, 30, 30, 30} # set\n",
        "d = {'one':1, 'two':2} # dict\n",
        "print(type(a))"
      ],
      "execution_count": null,
      "outputs": [
        {
          "output_type": "stream",
          "text": [
            "<class 'list'>\n"
          ],
          "name": "stdout"
        }
      ]
    },
    {
      "cell_type": "code",
      "metadata": {
        "colab": {
          "base_uri": "https://localhost:8080/"
        },
        "id": "FhvLZSU4fgRM",
        "outputId": "2e393c2d-f36f-4db7-f6aa-b2c6e87b8606"
      },
      "source": [
        "a.pop()\n",
        "sum(a)"
      ],
      "execution_count": null,
      "outputs": [
        {
          "output_type": "execute_result",
          "data": {
            "text/plain": [
              "90.19999999999999"
            ]
          },
          "metadata": {
            "tags": []
          },
          "execution_count": 13
        }
      ]
    },
    {
      "cell_type": "markdown",
      "metadata": {
        "id": "NHTS9m4pgVoL"
      },
      "source": [
        "## 형변환"
      ]
    },
    {
      "cell_type": "code",
      "metadata": {
        "colab": {
          "base_uri": "https://localhost:8080/"
        },
        "id": "TOj8V8uogSPz",
        "outputId": "283595cf-821f-43b8-a23b-a08da000bd07"
      },
      "source": [
        "a = 10\n",
        "b = '10'\n",
        "print(str(a) + b)\n",
        "print(a + int(b))"
      ],
      "execution_count": null,
      "outputs": [
        {
          "output_type": "stream",
          "text": [
            "1010\n",
            "20\n"
          ],
          "name": "stdout"
        }
      ]
    },
    {
      "cell_type": "markdown",
      "metadata": {
        "id": "7PwUkhMkk0ur"
      },
      "source": [
        "## 산술연산"
      ]
    },
    {
      "cell_type": "code",
      "metadata": {
        "colab": {
          "base_uri": "https://localhost:8080/"
        },
        "id": "6XesX91ok4cL",
        "outputId": "d7cc2561-a487-40d8-d9a7-af1973ffa629"
      },
      "source": [
        "a = 7\n",
        "b = 3\n",
        "print(a + b)\n",
        "print(a - b)\n",
        "print(a * b)\n",
        "print(a / b)\n",
        "print(a // b)\n",
        "print(a ** b)\n",
        "print(a % b) # a를 b로 나눈 몫의 나머지"
      ],
      "execution_count": null,
      "outputs": [
        {
          "output_type": "stream",
          "text": [
            "10\n",
            "4\n",
            "21\n",
            "2.3333333333333335\n",
            "2\n",
            "343\n",
            "1\n"
          ],
          "name": "stdout"
        }
      ]
    },
    {
      "cell_type": "markdown",
      "metadata": {
        "id": "k_aZN3acmAk7"
      },
      "source": [
        "## 비교연산"
      ]
    },
    {
      "cell_type": "code",
      "metadata": {
        "colab": {
          "base_uri": "https://localhost:8080/"
        },
        "id": "hEVXL4RUl2eq",
        "outputId": "2f3f563b-7cd2-4747-db29-6b8ba58ad391"
      },
      "source": [
        "a = 3\n",
        "b = 5\n",
        "print(a > b)\n",
        "print(a >= b)\n",
        "print(a < b)\n",
        "print(a <= b)\n",
        "print(a == b)\n",
        "print(a != b)"
      ],
      "execution_count": null,
      "outputs": [
        {
          "output_type": "stream",
          "text": [
            "False\n",
            "False\n",
            "True\n",
            "True\n",
            "False\n",
            "True\n"
          ],
          "name": "stdout"
        }
      ]
    },
    {
      "cell_type": "markdown",
      "metadata": {
        "id": "bGXKXAKJouuL"
      },
      "source": [
        "## 논리연산"
      ]
    },
    {
      "cell_type": "code",
      "metadata": {
        "colab": {
          "base_uri": "https://localhost:8080/"
        },
        "id": "V7cJa5j9pCpC",
        "outputId": "b9c736e4-1f5f-41ab-89f7-f7aac5bdc32b"
      },
      "source": [
        "# 주석입니다. 주석은 실행하지 않습니다.\n",
        "a = 10\n",
        "b = 20\n",
        "a + b"
      ],
      "execution_count": null,
      "outputs": [
        {
          "output_type": "execute_result",
          "data": {
            "text/plain": [
              "30"
            ]
          },
          "metadata": {
            "tags": []
          },
          "execution_count": 22
        }
      ]
    },
    {
      "cell_type": "code",
      "metadata": {
        "colab": {
          "base_uri": "https://localhost:8080/"
        },
        "id": "f1WbgkbmnURq",
        "outputId": "8aaa8b50-a599-49b3-ca5a-6db420d4ee96"
      },
      "source": [
        "a = True #1\n",
        "b = False #0\n",
        "\n",
        "print(a and b)\n",
        "print(a or b)\n",
        "print(not a)"
      ],
      "execution_count": null,
      "outputs": [
        {
          "output_type": "stream",
          "text": [
            "False\n",
            "True\n",
            "False\n"
          ],
          "name": "stdout"
        }
      ]
    },
    {
      "cell_type": "code",
      "metadata": {
        "colab": {
          "base_uri": "https://localhost:8080/"
        },
        "id": "cxaPFf9wqbLy",
        "outputId": "6b68e65c-0ec2-4588-e48d-c20eabb5c44a"
      },
      "source": [
        "result = 0\n",
        "for i in range(1001):\n",
        "    if i % 3  == 0 or i % 5 == 0:\n",
        "        result = result + i\n",
        "\n",
        "print(result)"
      ],
      "execution_count": null,
      "outputs": [
        {
          "output_type": "stream",
          "text": [
            "234168\n"
          ],
          "name": "stdout"
        }
      ]
    },
    {
      "cell_type": "markdown",
      "metadata": {
        "id": "KAVdOUrtw2sB"
      },
      "source": [
        "## 문자열"
      ]
    },
    {
      "cell_type": "code",
      "metadata": {
        "id": "libl26C3w5qw"
      },
      "source": [
        "s = 'paullab CEO leehojun'"
      ],
      "execution_count": null,
      "outputs": []
    },
    {
      "cell_type": "code",
      "metadata": {
        "colab": {
          "base_uri": "https://localhost:8080/"
        },
        "id": "2FZdEAfdxIWw",
        "outputId": "02264cec-3589-4954-848f-531949860dad"
      },
      "source": [
        "s.count('l')"
      ],
      "execution_count": null,
      "outputs": [
        {
          "output_type": "execute_result",
          "data": {
            "text/plain": [
              "3"
            ]
          },
          "metadata": {
            "tags": []
          },
          "execution_count": 37
        }
      ]
    },
    {
      "cell_type": "code",
      "metadata": {
        "colab": {
          "base_uri": "https://localhost:8080/"
        },
        "id": "CD-WXCPqxjq4",
        "outputId": "0e50bf7b-3fe1-430f-89e1-7927d8d60cbd"
      },
      "source": [
        "s.count(' ')"
      ],
      "execution_count": null,
      "outputs": [
        {
          "output_type": "execute_result",
          "data": {
            "text/plain": [
              "2"
            ]
          },
          "metadata": {
            "tags": []
          },
          "execution_count": 38
        }
      ]
    },
    {
      "cell_type": "code",
      "metadata": {
        "colab": {
          "base_uri": "https://localhost:8080/",
          "height": 35
        },
        "id": "UzsgdDGBx4yA",
        "outputId": "5009a001-80e5-4c4e-90e2-30749f6b38fc"
      },
      "source": [
        "s.upper()"
      ],
      "execution_count": null,
      "outputs": [
        {
          "output_type": "execute_result",
          "data": {
            "application/vnd.google.colaboratory.intrinsic+json": {
              "type": "string"
            },
            "text/plain": [
              "'PAULLAB CEO LEEHOJUN'"
            ]
          },
          "metadata": {
            "tags": []
          },
          "execution_count": 39
        }
      ]
    },
    {
      "cell_type": "code",
      "metadata": {
        "colab": {
          "base_uri": "https://localhost:8080/",
          "height": 35
        },
        "id": "iqOypBMKx8sg",
        "outputId": "38901649-af6e-4d28-b7cc-c743b85795f0"
      },
      "source": [
        "s.lower()"
      ],
      "execution_count": null,
      "outputs": [
        {
          "output_type": "execute_result",
          "data": {
            "application/vnd.google.colaboratory.intrinsic+json": {
              "type": "string"
            },
            "text/plain": [
              "'paullab ceo leehojun'"
            ]
          },
          "metadata": {
            "tags": []
          },
          "execution_count": 41
        }
      ]
    },
    {
      "cell_type": "code",
      "metadata": {
        "colab": {
          "base_uri": "https://localhost:8080/"
        },
        "id": "MUjPz4Zux-lB",
        "outputId": "03b44484-1481-4d00-baf9-3ed8de863f20"
      },
      "source": [
        "s. split(' ')"
      ],
      "execution_count": null,
      "outputs": [
        {
          "output_type": "execute_result",
          "data": {
            "text/plain": [
              "['paullab', 'CEO', 'leehojun']"
            ]
          },
          "metadata": {
            "tags": []
          },
          "execution_count": 43
        }
      ]
    },
    {
      "cell_type": "code",
      "metadata": {
        "colab": {
          "base_uri": "https://localhost:8080/",
          "height": 35
        },
        "id": "vdz0FoacyLJv",
        "outputId": "1fd0d8d3-067d-4bbe-ca71-84a77e0d22dc"
      },
      "source": [
        "''.join(['a', 'b', 'c'])"
      ],
      "execution_count": null,
      "outputs": [
        {
          "output_type": "execute_result",
          "data": {
            "application/vnd.google.colaboratory.intrinsic+json": {
              "type": "string"
            },
            "text/plain": [
              "'abc'"
            ]
          },
          "metadata": {
            "tags": []
          },
          "execution_count": 48
        }
      ]
    },
    {
      "cell_type": "code",
      "metadata": {
        "colab": {
          "base_uri": "https://localhost:8080/",
          "height": 35
        },
        "id": "pl073FWGywtR",
        "outputId": "20b05e3f-6e9d-4791-cd0e-6172d5894070"
      },
      "source": [
        "'-'.join(['a', 'b', 'c'])"
      ],
      "execution_count": null,
      "outputs": [
        {
          "output_type": "execute_result",
          "data": {
            "application/vnd.google.colaboratory.intrinsic+json": {
              "type": "string"
            },
            "text/plain": [
              "'a-b-c'"
            ]
          },
          "metadata": {
            "tags": []
          },
          "execution_count": 49
        }
      ]
    },
    {
      "cell_type": "code",
      "metadata": {
        "colab": {
          "base_uri": "https://localhost:8080/",
          "height": 35
        },
        "id": "GoFKKRHjy43r",
        "outputId": "66cbd235-426e-442e-aa7c-eb3985515b2b"
      },
      "source": [
        "d = s.split(' ')\n",
        "'-'.join(d)"
      ],
      "execution_count": null,
      "outputs": [
        {
          "output_type": "execute_result",
          "data": {
            "application/vnd.google.colaboratory.intrinsic+json": {
              "type": "string"
            },
            "text/plain": [
              "'paullab-CEO-leehojun'"
            ]
          },
          "metadata": {
            "tags": []
          },
          "execution_count": 51
        }
      ]
    },
    {
      "cell_type": "code",
      "metadata": {
        "colab": {
          "base_uri": "https://localhost:8080/"
        },
        "id": "I4SRJMMpzpnn",
        "outputId": "51b49fa1-e0ff-4587-a564-b04774cfc9eb"
      },
      "source": [
        "dir(s)"
      ],
      "execution_count": null,
      "outputs": [
        {
          "output_type": "execute_result",
          "data": {
            "text/plain": [
              "['__add__',\n",
              " '__class__',\n",
              " '__contains__',\n",
              " '__delattr__',\n",
              " '__dir__',\n",
              " '__doc__',\n",
              " '__eq__',\n",
              " '__format__',\n",
              " '__ge__',\n",
              " '__getattribute__',\n",
              " '__getitem__',\n",
              " '__getnewargs__',\n",
              " '__gt__',\n",
              " '__hash__',\n",
              " '__init__',\n",
              " '__init_subclass__',\n",
              " '__iter__',\n",
              " '__le__',\n",
              " '__len__',\n",
              " '__lt__',\n",
              " '__mod__',\n",
              " '__mul__',\n",
              " '__ne__',\n",
              " '__new__',\n",
              " '__reduce__',\n",
              " '__reduce_ex__',\n",
              " '__repr__',\n",
              " '__rmod__',\n",
              " '__rmul__',\n",
              " '__setattr__',\n",
              " '__sizeof__',\n",
              " '__str__',\n",
              " '__subclasshook__',\n",
              " 'capitalize',\n",
              " 'casefold',\n",
              " 'center',\n",
              " 'count',\n",
              " 'encode',\n",
              " 'endswith',\n",
              " 'expandtabs',\n",
              " 'find',\n",
              " 'format',\n",
              " 'format_map',\n",
              " 'index',\n",
              " 'isalnum',\n",
              " 'isalpha',\n",
              " 'isascii',\n",
              " 'isdecimal',\n",
              " 'isdigit',\n",
              " 'isidentifier',\n",
              " 'islower',\n",
              " 'isnumeric',\n",
              " 'isprintable',\n",
              " 'isspace',\n",
              " 'istitle',\n",
              " 'isupper',\n",
              " 'join',\n",
              " 'ljust',\n",
              " 'lower',\n",
              " 'lstrip',\n",
              " 'maketrans',\n",
              " 'partition',\n",
              " 'replace',\n",
              " 'rfind',\n",
              " 'rindex',\n",
              " 'rjust',\n",
              " 'rpartition',\n",
              " 'rsplit',\n",
              " 'rstrip',\n",
              " 'split',\n",
              " 'splitlines',\n",
              " 'startswith',\n",
              " 'strip',\n",
              " 'swapcase',\n",
              " 'title',\n",
              " 'translate',\n",
              " 'upper',\n",
              " 'zfill']"
            ]
          },
          "metadata": {
            "tags": []
          },
          "execution_count": 53
        }
      ]
    },
    {
      "cell_type": "code",
      "metadata": {
        "colab": {
          "base_uri": "https://localhost:8080/"
        },
        "id": "0U4MZbB_0Bpn",
        "outputId": "d9087df2-dbe0-489d-9948-caca3ce155dd"
      },
      "source": [
        "s = '        hello world'\n",
        "print(s)\n",
        "print(s.strip())\n",
        "print(s.replace(' ', ''))"
      ],
      "execution_count": null,
      "outputs": [
        {
          "output_type": "stream",
          "text": [
            "        hello world\n",
            "hello world\n",
            "helloworld\n"
          ],
          "name": "stdout"
        }
      ]
    },
    {
      "cell_type": "markdown",
      "metadata": {
        "id": "zNPB6l5YcYCk"
      },
      "source": [
        "##리스트\n",
        "* 순서가 있고, 수정이 가능합니다."
      ]
    },
    {
      "cell_type": "code",
      "metadata": {
        "colab": {
          "base_uri": "https://localhost:8080/"
        },
        "id": "xMV_PDXTch8c",
        "outputId": "a010c5af-2e45-4144-c10a-72e942ca7226"
      },
      "source": [
        "a = [10, 20, 30, 40, 50, 60, 70, 15]\n",
        "a\n",
        "a[0] # 0은 인텍스이고, a[0] 호출하는 것을 indexing이라고 합니다.\n",
        "a[0], a[1], a[2], a[3], a[4]\n",
        "a[0:5] # 슬라이싱, 자료형[start:stop:step] stop, step 생락 가능\n",
        "a[::2] # 슬라이싱, 자료형[start:stop:step] 잘 안씀..\n",
        "a[::-1] # 슬라이싱, 자료형[start:stop:step]\n",
        "a[0] = 1000\n",
        "a"
      ],
      "execution_count": null,
      "outputs": [
        {
          "output_type": "execute_result",
          "data": {
            "text/plain": [
              "[1000, 20, 30, 40, 50, 60, 70, 15]"
            ]
          },
          "metadata": {
            "tags": []
          },
          "execution_count": 7
        }
      ]
    },
    {
      "cell_type": "code",
      "metadata": {
        "colab": {
          "base_uri": "https://localhost:8080/"
        },
        "id": "hD3G4Ph4dz8r",
        "outputId": "dc87cb20-653b-4a87-eed4-16b384d51ad3"
      },
      "source": [
        "dir(a)\n",
        "\n",
        "a.append(10) # 값을 맨 뒤에 추가합니다. 잘써요\n",
        "a.clear() # a에 모든 값을 비웁니다. 안써요.\n",
        "a.copy() # a에 모든 값을 복사합니다.\n",
        "a.count() # a에서 특정한 값의 개수를 찾습니다. 잘써요\n",
        "a.extend([10, 20, 30]) # a에 맨 뒤에 여러개의 값을 추가합니다.\n",
        "a.index() # a에서 특장한 값의 인덱스를 찾습니다.\n",
        "a.insert(2, 1000) # a에 중간에 값을 삽입합니다.\n",
        "a.pop() # a에 맨 뒤에 값을 빼냅니다. 빼낸 값은 삭제됩니다. 잘써요\n",
        "a.remove(10000) # a에 특장한 값을 삭제합니다. \n",
        "a.reverse() # a에 값을 뒤집습니다. 잘써요\n",
        "a.sort() # a의 값을 정렬합니다. 잘써요"
      ],
      "execution_count": null,
      "outputs": [
        {
          "output_type": "execute_result",
          "data": {
            "text/plain": [
              "['__add__',\n",
              " '__class__',\n",
              " '__contains__',\n",
              " '__delattr__',\n",
              " '__delitem__',\n",
              " '__dir__',\n",
              " '__doc__',\n",
              " '__eq__',\n",
              " '__format__',\n",
              " '__ge__',\n",
              " '__getattribute__',\n",
              " '__getitem__',\n",
              " '__gt__',\n",
              " '__hash__',\n",
              " '__iadd__',\n",
              " '__imul__',\n",
              " '__init__',\n",
              " '__init_subclass__',\n",
              " '__iter__',\n",
              " '__le__',\n",
              " '__len__',\n",
              " '__lt__',\n",
              " '__mul__',\n",
              " '__ne__',\n",
              " '__new__',\n",
              " '__reduce__',\n",
              " '__reduce_ex__',\n",
              " '__repr__',\n",
              " '__reversed__',\n",
              " '__rmul__',\n",
              " '__setattr__',\n",
              " '__setitem__',\n",
              " '__sizeof__',\n",
              " '__str__',\n",
              " '__subclasshook__',\n",
              " 'append',\n",
              " 'clear',\n",
              " 'copy',\n",
              " 'count',\n",
              " 'extend',\n",
              " 'index',\n",
              " 'insert',\n",
              " 'pop',\n",
              " 'remove',\n",
              " 'reverse',\n",
              " 'sort']"
            ]
          },
          "metadata": {
            "tags": []
          },
          "execution_count": 8
        }
      ]
    },
    {
      "cell_type": "code",
      "metadata": {
        "colab": {
          "base_uri": "https://localhost:8080/"
        },
        "id": "WisC13t2gZE6",
        "outputId": "af4a4a88-80e0-48bb-8ab0-6581aba24bf4"
      },
      "source": [
        "a.append(100)\n",
        "a.append(100)\n",
        "a"
      ],
      "execution_count": null,
      "outputs": [
        {
          "output_type": "execute_result",
          "data": {
            "text/plain": [
              "[1000, 20, 30, 40, 50, 60, 70, 15, 100, 100, 100, 100, 100, 100]"
            ]
          },
          "metadata": {
            "tags": []
          },
          "execution_count": 12
        }
      ]
    },
    {
      "cell_type": "code",
      "metadata": {
        "colab": {
          "base_uri": "https://localhost:8080/"
        },
        "id": "1I583kpxgdkB",
        "outputId": "73dd4f33-a47b-4617-9052-04830e34976e"
      },
      "source": [
        "a.count(100)"
      ],
      "execution_count": null,
      "outputs": [
        {
          "output_type": "execute_result",
          "data": {
            "text/plain": [
              "6"
            ]
          },
          "metadata": {
            "tags": []
          },
          "execution_count": 14
        }
      ]
    },
    {
      "cell_type": "code",
      "metadata": {
        "colab": {
          "base_uri": "https://localhost:8080/"
        },
        "id": "J4PStBtPg73y",
        "outputId": "0decddcc-9a59-4459-ce69-7c9593e3d24d"
      },
      "source": [
        "a.sort()\n",
        "a"
      ],
      "execution_count": null,
      "outputs": [
        {
          "output_type": "execute_result",
          "data": {
            "text/plain": [
              "[15, 20, 30, 40, 50, 60, 70, 100, 100, 100, 100, 100, 100, 1000]"
            ]
          },
          "metadata": {
            "tags": []
          },
          "execution_count": 15
        }
      ]
    },
    {
      "cell_type": "code",
      "metadata": {
        "colab": {
          "base_uri": "https://localhost:8080/"
        },
        "id": "WEf9G0E1g-hC",
        "outputId": "4d1f5b88-62ca-4dae-cb4c-e7f0a2f94bac"
      },
      "source": [
        "a.reverse()\n",
        "a"
      ],
      "execution_count": null,
      "outputs": [
        {
          "output_type": "execute_result",
          "data": {
            "text/plain": [
              "[1000, 100, 100, 100, 100, 100, 100, 70, 60, 50, 40, 30, 20, 15]"
            ]
          },
          "metadata": {
            "tags": []
          },
          "execution_count": 16
        }
      ]
    },
    {
      "cell_type": "markdown",
      "metadata": {
        "id": "g9iSViAxiqJJ"
      },
      "source": [
        "##튜플, 딕셔너리, 셋"
      ]
    },
    {
      "cell_type": "code",
      "metadata": {
        "colab": {
          "base_uri": "https://localhost:8080/"
        },
        "id": "aJAZ96usitFi",
        "outputId": "d39578aa-ecb3-46e2-a315-8aee66a747d6"
      },
      "source": [
        "## 튜플은 순서가 있고 값을 변경할 수 없습니다.\n",
        "\n",
        "t = (10, 20, 30)\n",
        "t"
      ],
      "execution_count": null,
      "outputs": [
        {
          "output_type": "execute_result",
          "data": {
            "text/plain": [
              "(10, 20, 30)"
            ]
          },
          "metadata": {
            "tags": []
          },
          "execution_count": 17
        }
      ]
    },
    {
      "cell_type": "code",
      "metadata": {
        "colab": {
          "base_uri": "https://localhost:8080/"
        },
        "id": "uoBpdIjYi61Z",
        "outputId": "881a4a78-3331-427f-c8e4-6084266077cf"
      },
      "source": [
        "dir(t)"
      ],
      "execution_count": null,
      "outputs": [
        {
          "output_type": "execute_result",
          "data": {
            "text/plain": [
              "['__add__',\n",
              " '__class__',\n",
              " '__contains__',\n",
              " '__delattr__',\n",
              " '__dir__',\n",
              " '__doc__',\n",
              " '__eq__',\n",
              " '__format__',\n",
              " '__ge__',\n",
              " '__getattribute__',\n",
              " '__getitem__',\n",
              " '__getnewargs__',\n",
              " '__gt__',\n",
              " '__hash__',\n",
              " '__init__',\n",
              " '__init_subclass__',\n",
              " '__iter__',\n",
              " '__le__',\n",
              " '__len__',\n",
              " '__lt__',\n",
              " '__mul__',\n",
              " '__ne__',\n",
              " '__new__',\n",
              " '__reduce__',\n",
              " '__reduce_ex__',\n",
              " '__repr__',\n",
              " '__rmul__',\n",
              " '__setattr__',\n",
              " '__sizeof__',\n",
              " '__str__',\n",
              " '__subclasshook__',\n",
              " 'count',\n",
              " 'index']"
            ]
          },
          "metadata": {
            "tags": []
          },
          "execution_count": 18
        }
      ]
    },
    {
      "cell_type": "code",
      "metadata": {
        "colab": {
          "base_uri": "https://localhost:8080/",
          "height": 36
        },
        "id": "uogG4MPdjbFp",
        "outputId": "20325e4b-4e3f-4985-c33c-f96f372a4a4b"
      },
      "source": [
        "# 딕셔너리 (key : value) 형태로 매칭\n",
        "\n",
        "영한번역 = {'one' : '하나', 'two' : '둘'}\n",
        "영한번역 ['one']"
      ],
      "execution_count": null,
      "outputs": [
        {
          "output_type": "execute_result",
          "data": {
            "application/vnd.google.colaboratory.intrinsic+json": {
              "type": "string"
            },
            "text/plain": [
              "'하나'"
            ]
          },
          "metadata": {
            "tags": []
          },
          "execution_count": 20
        }
      ]
    },
    {
      "cell_type": "code",
      "metadata": {
        "colab": {
          "base_uri": "https://localhost:8080/"
        },
        "id": "vyB1bFaZnzIR",
        "outputId": "b21b20fc-0b0c-438c-8b25-d85c25285e9d"
      },
      "source": [
        "# 셋 (집합, 합집합, 차집합, 교집합)\n",
        "\n",
        "s = {10, 20, 30, 30, 30}\n",
        "s"
      ],
      "execution_count": null,
      "outputs": [
        {
          "output_type": "execute_result",
          "data": {
            "text/plain": [
              "{10, 20, 30}"
            ]
          },
          "metadata": {
            "tags": []
          },
          "execution_count": 22
        }
      ]
    },
    {
      "cell_type": "code",
      "metadata": {
        "colab": {
          "base_uri": "https://localhost:8080/"
        },
        "id": "BfyiSguBoIDQ",
        "outputId": "b050ffc8-44b2-42b9-99fa-3f18dcc39ef2"
      },
      "source": [
        "s = {10, 20, 30, 30, 30}\n",
        "ss = {10, 40, 50}\n",
        "s | ss # 합집합\n",
        "s & ss # 교집합\n",
        "s - ss  # 차집합"
      ],
      "execution_count": null,
      "outputs": [
        {
          "output_type": "execute_result",
          "data": {
            "text/plain": [
              "{20, 30}"
            ]
          },
          "metadata": {
            "tags": []
          },
          "execution_count": 26
        }
      ]
    },
    {
      "cell_type": "markdown",
      "metadata": {
        "id": "YZtOoRBTo0UP"
      },
      "source": [
        "##f-string"
      ]
    },
    {
      "cell_type": "code",
      "metadata": {
        "colab": {
          "base_uri": "https://localhost:8080/"
        },
        "id": "LD4vUnf1owaf",
        "outputId": "7a64677f-27ef-4917-9deb-3575a7b5b3fe"
      },
      "source": [
        "age = 10\n",
        "name = 'leehojun'\n",
        "print('제 이름은 leehojun입니다. 제 나이는 10살입니다.')\n",
        "print('제 이름은', name, '입니다. 제 나이는', age, '살입니다.')\n",
        "print('제 이름은 {0}입니다. 제 나이는 {1}살입니다.'.format(name,age))\n",
        "print(f'제 이름은 {name} 입니다. 제 나이는 {age+age} 살입니다.') #이것만 씀"
      ],
      "execution_count": null,
      "outputs": [
        {
          "output_type": "stream",
          "text": [
            "제 이름은 leehojun입니다. 제 나이는 10살입니다.\n",
            "제 이름은 leehojun 입니다. 제 나이는 10 살입니다.\n",
            "제 이름은 leehojun입니다. 제 나이는 10살입니다.\n",
            "제 이름은 leehojun 입니다. 제 나이는 20 살입니다.\n"
          ],
          "name": "stdout"
        }
      ]
    },
    {
      "cell_type": "markdown",
      "metadata": {
        "id": "lBpa0kyhruxn"
      },
      "source": [
        "##built in function\n",
        "\n",
        "* abs() : 절대값\n",
        "* min() : 최솟값\n",
        "* max() : 최댓값\n",
        "* dir() : 매서드 확인\n",
        "* id() : 메모리 주소 확인\n",
        "* sorted() : 정렬\n",
        "* reversed() : 역순(역정렬 아님)\n",
        "* enumerate() : 순서를 매김 (for 하면서 설명)\n",
        "\n",
        "* 형변환 :\n",
        "  * set() : 집합으로 형변환\n",
        "  * dict() : 딕셔너리로 형변환\n",
        "  * bool() : 불리언으로 형변환\n",
        "  * int() : 정수형으로 형변환\n",
        "  * str() : 문자열로 형변환\n",
        "  * list() : 리스트로 형변환\n",
        "* ord() : 문자를 숫자로 변화\n",
        "* chr() : 숫자를 문자로 변환\n",
        "* sum() : 전부 더함(더할 수 없으면 애러)\n",
        "* filter() : 필터링(수학점수 90점 이상인 사람)\n",
        "* print() : 출력\n",
        "\n",
        "* format() : 콤마찍기\n",
        "* len() : 길이 출력 (중요)\n",
        "* type() : 타입 알아보기 (중요)\n",
        "* range() : 연속된 값 생성 (0~99 -> range (100))\n",
        "* zip('abc\",'def\")\n",
        "* map(lambda x:x**2,[1,2,3])\n",
        "* round() : 소수점 자리 반올림"
      ]
    },
    {
      "cell_type": "code",
      "metadata": {
        "colab": {
          "base_uri": "https://localhost:8080/"
        },
        "id": "DZYmjjZ5r7XH",
        "outputId": "1cea0a9e-3ec1-4076-c58a-e2ff293f06aa"
      },
      "source": [
        "list(zip('abc','def'))"
      ],
      "execution_count": null,
      "outputs": [
        {
          "output_type": "execute_result",
          "data": {
            "text/plain": [
              "[('a', 'd'), ('b', 'e'), ('c', 'f')]"
            ]
          },
          "metadata": {
            "tags": []
          },
          "execution_count": 44
        }
      ]
    },
    {
      "cell_type": "code",
      "metadata": {
        "colab": {
          "base_uri": "https://localhost:8080/"
        },
        "id": "5anWRk-cxPAN",
        "outputId": "ddf52051-1a8e-4186-c4df-b5fffbd42d4a"
      },
      "source": [
        "list(map(lambda x:x**2,[1,2,3]))"
      ],
      "execution_count": null,
      "outputs": [
        {
          "output_type": "execute_result",
          "data": {
            "text/plain": [
              "[1, 4, 9]"
            ]
          },
          "metadata": {
            "tags": []
          },
          "execution_count": 43
        }
      ]
    },
    {
      "cell_type": "markdown",
      "metadata": {
        "id": "0PfdSk300Kac"
      },
      "source": [
        "##조건문"
      ]
    },
    {
      "cell_type": "code",
      "metadata": {
        "colab": {
          "base_uri": "https://localhost:8080/"
        },
        "id": "ideCYI9B1EZ8",
        "outputId": "49f06526-32b2-4b34-aeea-d3fb888dd834"
      },
      "source": [
        "if True:\n",
        "    print('hello')\n",
        "print('end')"
      ],
      "execution_count": null,
      "outputs": [
        {
          "output_type": "stream",
          "text": [
            "hello\n",
            "end\n"
          ],
          "name": "stdout"
        }
      ]
    },
    {
      "cell_type": "code",
      "metadata": {
        "colab": {
          "base_uri": "https://localhost:8080/"
        },
        "id": "bDP12lgN0QHW",
        "outputId": "d0d12583-4284-460b-9041-15301d88204f"
      },
      "source": [
        "score = 89\n",
        "money = 0\n",
        "\n",
        "if score > 90:\n",
        "    print('mom : i\\'m so happy')\n",
        "    money += 1000000 # money = money + 1000000. 할당연산이라 부릅니다.\n",
        "elif score > 80:\n",
        "    print('mom : i\\'m happy')\n",
        "    money += 100000\n",
        "elif score > 70:\n",
        "    print('mom : happy?')\n",
        "    money += 10000\n",
        "else:\n",
        "    print('mom : ...')\n",
        " # elif = else if 앞에꺼 제외 하고 조건 달기\n",
        "print(money)"
      ],
      "execution_count": null,
      "outputs": [
        {
          "output_type": "stream",
          "text": [
            "mom : im happy\n",
            "100000\n"
          ],
          "name": "stdout"
        }
      ]
    },
    {
      "cell_type": "markdown",
      "metadata": {
        "id": "AiVuJIaE2oAS"
      },
      "source": [
        "##문제 풀이와 업다운 게임 제작"
      ]
    },
    {
      "cell_type": "code",
      "metadata": {
        "colab": {
          "base_uri": "https://localhost:8080/"
        },
        "id": "clgt7TUo2D4D",
        "outputId": "82c646b4-022f-4df6-f85b-c68c4c0cf7a9"
      },
      "source": [
        "str(list(range(100)))\n",
        "str(list(range(100))).count('8')\n",
        "str(list(range(10001))).count('8')"
      ],
      "execution_count": null,
      "outputs": [
        {
          "output_type": "execute_result",
          "data": {
            "text/plain": [
              "4000"
            ]
          },
          "metadata": {
            "tags": []
          },
          "execution_count": 57
        }
      ]
    },
    {
      "cell_type": "code",
      "metadata": {
        "id": "s8dNySOR31pK"
      },
      "source": [
        "리스트 = [1, 3, 4, 8, 13, 17, 20]\n",
        "리스트둘 = 리스트[1:]"
      ],
      "execution_count": null,
      "outputs": []
    },
    {
      "cell_type": "code",
      "metadata": {
        "colab": {
          "base_uri": "https://localhost:8080/"
        },
        "id": "2mHmi4R05MT9",
        "outputId": "70830bac-691e-464c-c9a1-915e84bd812a"
      },
      "source": [
        "list(zip(리스트, 리스트둘))"
      ],
      "execution_count": null,
      "outputs": [
        {
          "output_type": "execute_result",
          "data": {
            "text/plain": [
              "[(1, 3), (3, 4), (4, 8), (8, 13), (13, 17), (17, 20)]"
            ]
          },
          "metadata": {
            "tags": []
          },
          "execution_count": 62
        }
      ]
    },
    {
      "cell_type": "code",
      "metadata": {
        "colab": {
          "base_uri": "https://localhost:8080/"
        },
        "id": "2AYfA22C5XSM",
        "outputId": "33af9bd0-a99a-4016-847c-dc02bf7e3544"
      },
      "source": [
        "묶어준리스트 = list(zip(리스트, 리스트둘))\n",
        "묶어준리스트.sort(key=lambda x:x[0]-x[1], reverse=True)\n",
        "묶어준리스트\n",
        "묶어준리스트[0]"
      ],
      "execution_count": null,
      "outputs": [
        {
          "output_type": "execute_result",
          "data": {
            "text/plain": [
              "(3, 4)"
            ]
          },
          "metadata": {
            "tags": []
          },
          "execution_count": 67
        }
      ]
    },
    {
      "cell_type": "code",
      "metadata": {
        "colab": {
          "base_uri": "https://localhost:8080/"
        },
        "id": "V4saN4Ip6CbT",
        "outputId": "fc70cdcc-569d-45df-af07-877f19382fed"
      },
      "source": [
        "import random\n",
        "\n",
        "정답 = random.randint(1,100)\n",
        "\n",
        "while True:\n",
        "    user = int(input('숫자를 입력해주세요.'))\n",
        "    if user < 정답:\n",
        "        print('up')\n",
        "    elif user > 정답:\n",
        "        print('down')\n",
        "    else:\n",
        "        print('정답!')\n",
        "        break"
      ],
      "execution_count": null,
      "outputs": [
        {
          "output_type": "stream",
          "text": [
            "숫자를 입력해주세요.50\n",
            "up\n",
            "숫자를 입력해주세요.80\n",
            "up\n",
            "숫자를 입력해주세요.90\n",
            "up\n",
            "숫자를 입력해주세요.95\n",
            "down\n",
            "숫자를 입력해주세요.93\n",
            "down\n",
            "숫자를 입력해주세요.92\n",
            "정답!\n"
          ],
          "name": "stdout"
        }
      ]
    },
    {
      "cell_type": "markdown",
      "metadata": {
        "id": "Jev0G8FB-XWw"
      },
      "source": [
        "##반복문"
      ]
    },
    {
      "cell_type": "code",
      "metadata": {
        "colab": {
          "base_uri": "https://localhost:8080/"
        },
        "id": "XgpnLQKq-Ww6",
        "outputId": "88371cde-7815-4f8f-8d53-10ac0e1566dd"
      },
      "source": [
        "for i in range(10):\n",
        "    print(i)"
      ],
      "execution_count": null,
      "outputs": [
        {
          "output_type": "stream",
          "text": [
            "0\n",
            "1\n",
            "2\n",
            "3\n",
            "4\n",
            "5\n",
            "6\n",
            "7\n",
            "8\n",
            "9\n"
          ],
          "name": "stdout"
        }
      ]
    },
    {
      "cell_type": "code",
      "metadata": {
        "colab": {
          "base_uri": "https://localhost:8080/"
        },
        "id": "dBXo2cW1BsA_",
        "outputId": "44706e91-49fb-43c9-f3d7-e16b56b4b510"
      },
      "source": [
        "list(range(10)) #stop\n",
        "list(range(0, 10, 2)) #start, stop, step\n",
        "list(range(5, 10)) #start, stop\n",
        "list(range(10, 5, -1)) #start, stop, step"
      ],
      "execution_count": null,
      "outputs": [
        {
          "output_type": "execute_result",
          "data": {
            "text/plain": [
              "[10, 9, 8, 7, 6]"
            ]
          },
          "metadata": {
            "tags": []
          },
          "execution_count": 75
        }
      ]
    },
    {
      "cell_type": "code",
      "metadata": {
        "colab": {
          "base_uri": "https://localhost:8080/"
        },
        "id": "KxxCI0XYCN-O",
        "outputId": "aee53f9a-b58d-471b-ec92-47895516a96f"
      },
      "source": [
        "s=0\n",
        "for i in range(101):\n",
        "    s = s + i # s += 1\n",
        "\n",
        "print(s)"
      ],
      "execution_count": null,
      "outputs": [
        {
          "output_type": "stream",
          "text": [
            "5050\n"
          ],
          "name": "stdout"
        }
      ]
    },
    {
      "cell_type": "code",
      "metadata": {
        "colab": {
          "base_uri": "https://localhost:8080/"
        },
        "id": "0wJlBEMbCihe",
        "outputId": "6dc46a8b-594f-4a11-e122-96cb755e98aa"
      },
      "source": [
        "s = 0\n",
        "for i in range(0, 101, 2):\n",
        "    s = s + i # s +=1\n",
        "\n",
        "print(s)"
      ],
      "execution_count": null,
      "outputs": [
        {
          "output_type": "stream",
          "text": [
            "2550\n"
          ],
          "name": "stdout"
        }
      ]
    },
    {
      "cell_type": "code",
      "metadata": {
        "colab": {
          "base_uri": "https://localhost:8080/"
        },
        "id": "hT8ggHfID4cm",
        "outputId": "094f60c6-bd7f-4d7d-c039-064ced8762c1"
      },
      "source": [
        "s = 0\n",
        "for i in range(101):\n",
        "    if i % 2 == 0:\n",
        "        s = s + i #s +=1\n",
        "\n",
        "print(s)"
      ],
      "execution_count": null,
      "outputs": [
        {
          "output_type": "stream",
          "text": [
            "2550\n"
          ],
          "name": "stdout"
        }
      ]
    },
    {
      "cell_type": "code",
      "metadata": {
        "colab": {
          "base_uri": "https://localhost:8080/"
        },
        "id": "xMOiZftkEnwv",
        "outputId": "497f791b-ef2a-434e-f403-6d57f10b80c7"
      },
      "source": [
        "for i in range(1,10):\n",
        "    print(f'{2} X {i} = {2*i}')\n",
        "for i in range(1,10):\n",
        "    print(f'{3} X {i} = {3*i}')\n",
        "for i in range(1,10):\n",
        "    print(f'{4} X {i} = {4*i}')\n",
        "for i in range(1,10):\n",
        "    print(f'{5} X {i} = {5*i}')\n",
        "for i in range(1,10):\n",
        "    print(f'{6} X {i} = {6*i}')\n",
        "for i in range(1,10):\n",
        "    print(f'{7} X {i} = {7*i}')\n",
        "for i in range(1,10):\n",
        "    print(f'{8} X {i} = {8*i}')\n",
        "for i in range(1,10):\n",
        "    print(f'{9} X {i} = {9*i}')"
      ],
      "execution_count": null,
      "outputs": [
        {
          "output_type": "stream",
          "text": [
            "2 X 1 = 2\n",
            "2 X 2 = 4\n",
            "2 X 3 = 6\n",
            "2 X 4 = 8\n",
            "2 X 5 = 10\n",
            "2 X 6 = 12\n",
            "2 X 7 = 14\n",
            "2 X 8 = 16\n",
            "2 X 9 = 18\n",
            "3 X 1 = 3\n",
            "3 X 2 = 6\n",
            "3 X 3 = 9\n",
            "3 X 4 = 12\n",
            "3 X 5 = 15\n",
            "3 X 6 = 18\n",
            "3 X 7 = 21\n",
            "3 X 8 = 24\n",
            "3 X 9 = 27\n",
            "4 X 1 = 4\n",
            "4 X 2 = 8\n",
            "4 X 3 = 12\n",
            "4 X 4 = 16\n",
            "4 X 5 = 20\n",
            "4 X 6 = 24\n",
            "4 X 7 = 28\n",
            "4 X 8 = 32\n",
            "4 X 9 = 36\n",
            "5 X 1 = 5\n",
            "5 X 2 = 10\n",
            "5 X 3 = 15\n",
            "5 X 4 = 20\n",
            "5 X 5 = 25\n",
            "5 X 6 = 30\n",
            "5 X 7 = 35\n",
            "5 X 8 = 40\n",
            "5 X 9 = 45\n",
            "6 X 1 = 6\n",
            "6 X 2 = 12\n",
            "6 X 3 = 18\n",
            "6 X 4 = 24\n",
            "6 X 5 = 30\n",
            "6 X 6 = 36\n",
            "6 X 7 = 42\n",
            "6 X 8 = 48\n",
            "6 X 9 = 54\n",
            "7 X 1 = 7\n",
            "7 X 2 = 14\n",
            "7 X 3 = 21\n",
            "7 X 4 = 28\n",
            "7 X 5 = 35\n",
            "7 X 6 = 42\n",
            "7 X 7 = 49\n",
            "7 X 8 = 56\n",
            "7 X 9 = 63\n",
            "8 X 1 = 8\n",
            "8 X 2 = 16\n",
            "8 X 3 = 24\n",
            "8 X 4 = 32\n",
            "8 X 5 = 40\n",
            "8 X 6 = 48\n",
            "8 X 7 = 56\n",
            "8 X 8 = 64\n",
            "8 X 9 = 72\n",
            "9 X 1 = 9\n",
            "9 X 2 = 18\n",
            "9 X 3 = 27\n",
            "9 X 4 = 36\n",
            "9 X 5 = 45\n",
            "9 X 6 = 54\n",
            "9 X 7 = 63\n",
            "9 X 8 = 72\n",
            "9 X 9 = 81\n"
          ],
          "name": "stdout"
        }
      ]
    },
    {
      "cell_type": "code",
      "metadata": {
        "colab": {
          "base_uri": "https://localhost:8080/"
        },
        "id": "Jqnf6OZ1F1Gu",
        "outputId": "04e03069-76c9-40a9-c334-ca647eaf4006"
      },
      "source": [
        "for 단 in range(2, 10):\n",
        "    for i in range(1, 10):\n",
        "        print(f'{단} X{i} = {단*i}')"
      ],
      "execution_count": null,
      "outputs": [
        {
          "output_type": "stream",
          "text": [
            "2 X1 = 2\n",
            "2 X2 = 4\n",
            "2 X3 = 6\n",
            "2 X4 = 8\n",
            "2 X5 = 10\n",
            "2 X6 = 12\n",
            "2 X7 = 14\n",
            "2 X8 = 16\n",
            "2 X9 = 18\n",
            "3 X1 = 3\n",
            "3 X2 = 6\n",
            "3 X3 = 9\n",
            "3 X4 = 12\n",
            "3 X5 = 15\n",
            "3 X6 = 18\n",
            "3 X7 = 21\n",
            "3 X8 = 24\n",
            "3 X9 = 27\n",
            "4 X1 = 4\n",
            "4 X2 = 8\n",
            "4 X3 = 12\n",
            "4 X4 = 16\n",
            "4 X5 = 20\n",
            "4 X6 = 24\n",
            "4 X7 = 28\n",
            "4 X8 = 32\n",
            "4 X9 = 36\n",
            "5 X1 = 5\n",
            "5 X2 = 10\n",
            "5 X3 = 15\n",
            "5 X4 = 20\n",
            "5 X5 = 25\n",
            "5 X6 = 30\n",
            "5 X7 = 35\n",
            "5 X8 = 40\n",
            "5 X9 = 45\n",
            "6 X1 = 6\n",
            "6 X2 = 12\n",
            "6 X3 = 18\n",
            "6 X4 = 24\n",
            "6 X5 = 30\n",
            "6 X6 = 36\n",
            "6 X7 = 42\n",
            "6 X8 = 48\n",
            "6 X9 = 54\n",
            "7 X1 = 7\n",
            "7 X2 = 14\n",
            "7 X3 = 21\n",
            "7 X4 = 28\n",
            "7 X5 = 35\n",
            "7 X6 = 42\n",
            "7 X7 = 49\n",
            "7 X8 = 56\n",
            "7 X9 = 63\n",
            "8 X1 = 8\n",
            "8 X2 = 16\n",
            "8 X3 = 24\n",
            "8 X4 = 32\n",
            "8 X5 = 40\n",
            "8 X6 = 48\n",
            "8 X7 = 56\n",
            "8 X8 = 64\n",
            "8 X9 = 72\n",
            "9 X1 = 9\n",
            "9 X2 = 18\n",
            "9 X3 = 27\n",
            "9 X4 = 36\n",
            "9 X5 = 45\n",
            "9 X6 = 54\n",
            "9 X7 = 63\n",
            "9 X8 = 72\n",
            "9 X9 = 81\n"
          ],
          "name": "stdout"
        }
      ]
    },
    {
      "cell_type": "code",
      "metadata": {
        "colab": {
          "base_uri": "https://localhost:8080/"
        },
        "id": "gvcXYVOLGh4d",
        "outputId": "a82df7f6-ddc3-498b-af23-2aff2cb03943"
      },
      "source": [
        "x = 1\n",
        "while x < 10:\n",
        "    print(f'{2} X {x} = {2*x}')\n",
        "    x += 1"
      ],
      "execution_count": null,
      "outputs": [
        {
          "output_type": "stream",
          "text": [
            "2 X 1 = 2\n",
            "2 X 2 = 4\n",
            "2 X 3 = 6\n",
            "2 X 4 = 8\n",
            "2 X 5 = 10\n",
            "2 X 6 = 12\n",
            "2 X 7 = 14\n",
            "2 X 8 = 16\n",
            "2 X 9 = 18\n"
          ],
          "name": "stdout"
        }
      ]
    },
    {
      "cell_type": "markdown",
      "metadata": {
        "id": "PWj2be7vH9kU"
      },
      "source": [
        "##모듈"
      ]
    },
    {
      "cell_type": "code",
      "metadata": {
        "id": "lds_eutTH_wO"
      },
      "source": [
        "# filename = test.py\n",
        "# name = 'leehojun'\n",
        "# age = 10"
      ],
      "execution_count": null,
      "outputs": []
    },
    {
      "cell_type": "code",
      "metadata": {
        "colab": {
          "base_uri": "https://localhost:8080/"
        },
        "id": "JBTM11ACJw58",
        "outputId": "d8f0441c-d82b-4630-cc63-fbe8e8b7c313"
      },
      "source": [
        "# import test\n",
        "import test as t\n",
        "\n",
        "print(t.name)\n",
        "print(t.age)"
      ],
      "execution_count": null,
      "outputs": [
        {
          "output_type": "stream",
          "text": [
            "leehojun\n",
            "10\n"
          ],
          "name": "stdout"
        }
      ]
    },
    {
      "cell_type": "code",
      "metadata": {
        "colab": {
          "base_uri": "https://localhost:8080/"
        },
        "id": "TAspsStuKSGX",
        "outputId": "0956f30b-2124-4a5e-e25d-a7c971b3c916"
      },
      "source": [
        "from test import name, age\n",
        "\n",
        "print(name)\n",
        "print(age)"
      ],
      "execution_count": null,
      "outputs": [
        {
          "output_type": "stream",
          "text": [
            "leehojun\n",
            "10\n"
          ],
          "name": "stdout"
        }
      ]
    },
    {
      "cell_type": "markdown",
      "metadata": {
        "id": "wnY-Ms5X7q6n"
      },
      "source": [
        "##함수\n",
        "\n",
        "* 재사용성을 높일 수 있다.\n",
        "* 코드의 구조를 파악하기 쉽다\n",
        "* 유지보수를 쉽게 할 수 있다."
      ]
    },
    {
      "cell_type": "code",
      "metadata": {
        "colab": {
          "base_uri": "https://localhost:8080/"
        },
        "id": "Qx3FZr6A7sb5",
        "outputId": "9ea407c2-aa7e-48b4-fe63-0af0d3910271"
      },
      "source": [
        "def 더하기(x, y):\n",
        "    return x + y\n",
        "\n",
        "더하기(10, 20)"
      ],
      "execution_count": null,
      "outputs": [
        {
          "output_type": "execute_result",
          "data": {
            "text/plain": [
              "30"
            ]
          },
          "metadata": {
            "tags": []
          },
          "execution_count": 11
        }
      ]
    },
    {
      "cell_type": "code",
      "metadata": {
        "colab": {
          "base_uri": "https://localhost:8080/"
        },
        "id": "7Rd-Z4hS8HfI",
        "outputId": "a6790fad-e357-4dea-b93f-e438d47da6ac"
      },
      "source": [
        "def 원의넓이(r):\n",
        "    return (r**2) * 3.14\n",
        "\n",
        "print(원의넓이(10) + 100)\n",
        "print(원의넓이(10) + 50)"
      ],
      "execution_count": null,
      "outputs": [
        {
          "output_type": "stream",
          "text": [
            "414.0\n",
            "364.0\n"
          ],
          "name": "stdout"
        }
      ]
    },
    {
      "cell_type": "code",
      "metadata": {
        "colab": {
          "base_uri": "https://localhost:8080/"
        },
        "id": "ynT64xsO8fPA",
        "outputId": "c26bda25-e5ce-4163-d478-c05c1c5b6195"
      },
      "source": [
        "점수 = [10, 20, 30, 40]\n",
        "def 평균(반점수):\n",
        "    s = 0\n",
        "    for i in 반점수:\n",
        "        s += i\n",
        "    return s / len(반점수)\n",
        "\n",
        "print(평균(점수))\n",
        "print(평균(점수) + 5)"
      ],
      "execution_count": null,
      "outputs": [
        {
          "output_type": "stream",
          "text": [
            "25.0\n",
            "30.0\n"
          ],
          "name": "stdout"
        }
      ]
    },
    {
      "cell_type": "markdown",
      "metadata": {
        "id": "nbNi_do8K6Wy"
      },
      "source": [
        "##파일 입출력"
      ]
    },
    {
      "cell_type": "code",
      "metadata": {
        "id": "zHT-liK4K8yr"
      },
      "source": [
        "f = open(\"구구단.txt\", 'w') # r(읽음). w(작성, 덮어씀), a(추가)\n",
        "data= ''\n",
        "for 단 in range(2, 10):\n",
        "    for i in range(1, 10):\n",
        "        data += f'{단} X{i} = {단*i}\\n'\n",
        "f.write(data)\n",
        "f.close()"
      ],
      "execution_count": null,
      "outputs": []
    },
    {
      "cell_type": "markdown",
      "metadata": {
        "id": "f6xgZwfK3xMV"
      },
      "source": [
        "##클래스\n",
        "\n",
        "* 현실세계의 개념을 Code로 옮겨놓은 것\n",
        "* 클래스의 첫 문자열은 대문자로 한다."
      ]
    },
    {
      "cell_type": "code",
      "metadata": {
        "id": "YOPZYszn31eM"
      },
      "source": [
        "class Car : \n",
        "    # 클래스 변수 또는 멤버\n",
        "    maxspeed = 300\n",
        "    maxpeople = 5\n",
        "    # 메서드\n",
        "    def start(self):\n",
        "        print('출발하였습니다.')\n",
        "\n",
        "    def stop(self):\n",
        "        print('멈췄습니다.')"
      ],
      "execution_count": null,
      "outputs": []
    },
    {
      "cell_type": "code",
      "metadata": {
        "colab": {
          "base_uri": "https://localhost:8080/"
        },
        "id": "apA1PK5W5W5J",
        "outputId": "ff179c1d-247f-4658-d310-a842e37ee1cf"
      },
      "source": [
        "audi = Car() # audi라는 인스턴스 생성\n",
        "bmw = Car() # bmw라는 인스턴스 생성\n",
        "\n",
        "audi.start()\n",
        "print(audi.maxpeople)\n",
        "print(Car.maxspeed) # 이렇게 하면 안됨"
      ],
      "execution_count": null,
      "outputs": [
        {
          "output_type": "stream",
          "text": [
            "출발하였습니다.\n",
            "5\n",
            "300\n"
          ],
          "name": "stdout"
        }
      ]
    },
    {
      "cell_type": "code",
      "metadata": {
        "colab": {
          "base_uri": "https://localhost:8080/"
        },
        "id": "mAiJCEiv6fmS",
        "outputId": "70416875-8e46-4272-d5b2-8823f77ba0b0"
      },
      "source": [
        "dir(audi)"
      ],
      "execution_count": null,
      "outputs": [
        {
          "output_type": "execute_result",
          "data": {
            "text/plain": [
              "['__class__',\n",
              " '__delattr__',\n",
              " '__dict__',\n",
              " '__dir__',\n",
              " '__doc__',\n",
              " '__eq__',\n",
              " '__format__',\n",
              " '__ge__',\n",
              " '__getattribute__',\n",
              " '__gt__',\n",
              " '__hash__',\n",
              " '__init__',\n",
              " '__init_subclass__',\n",
              " '__le__',\n",
              " '__lt__',\n",
              " '__module__',\n",
              " '__ne__',\n",
              " '__new__',\n",
              " '__reduce__',\n",
              " '__reduce_ex__',\n",
              " '__repr__',\n",
              " '__setattr__',\n",
              " '__sizeof__',\n",
              " '__str__',\n",
              " '__subclasshook__',\n",
              " '__weakref__',\n",
              " 'maxpeople',\n",
              " 'maxspeed',\n",
              " 'start',\n",
              " 'stop']"
            ]
          },
          "metadata": {
            "tags": []
          },
          "execution_count": 9
        }
      ]
    },
    {
      "cell_type": "code",
      "metadata": {
        "colab": {
          "base_uri": "https://localhost:8080/"
        },
        "id": "CA1po3oO6v_A",
        "outputId": "270a2055-490e-4e11-9edd-1f11866df7e8"
      },
      "source": [
        "class 전기차(Car):\n",
        "    배터리 = 100\n",
        "    배터리에_따라_갈_수_있는_거리 = 300\n",
        "\n",
        "전기차audi = 전기차()\n",
        "전기차audi.start()\n"
      ],
      "execution_count": null,
      "outputs": [
        {
          "output_type": "stream",
          "text": [
            "출발하였습니다.\n"
          ],
          "name": "stdout"
        }
      ]
    }
  ]
}